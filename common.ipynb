{
 "cells": [
  {
   "cell_type": "code",
   "execution_count": 2,
   "metadata": {},
   "outputs": [],
   "source": [
    "import pandas as pd"
   ]
  },
  {
   "cell_type": "code",
   "execution_count": 10,
   "metadata": {},
   "outputs": [],
   "source": [
    "census2011 = pd.read_csv('data/census2011.csv', index_col=0)\n",
    "census2016 = pd.read_csv('data/census2016.csv', index_col=0)\n",
    "census2021 = pd.read_csv('data/census2021.csv', index_col=0)"
   ]
  },
  {
   "cell_type": "code",
   "execution_count": 11,
   "metadata": {},
   "outputs": [],
   "source": [
    "census2016.columns = census2016.columns.str.strip()\n",
    "census2011.columns = census2011.columns.str.strip()\n",
    "census2021.columns = census2021.columns.str.strip()"
   ]
  },
  {
   "cell_type": "code",
   "execution_count": 12,
   "metadata": {},
   "outputs": [
    {
     "name": "stdout",
     "output_type": "stream",
     "text": [
      "(141, 63)\n",
      "(141, 63)\n"
     ]
    }
   ],
   "source": [
    "print(census2011.shape)\n",
    "print(census2016.shape)\n",
    "print(census2021.shape)"
   ]
  },
  {
   "cell_type": "code",
   "execution_count": 15,
   "metadata": {},
   "outputs": [
    {
     "name": "stdout",
     "output_type": "stream",
     "text": [
      "set()\n"
     ]
    }
   ],
   "source": [
    "not_common_columns = set(census2011.columns).symmetric_difference(census2016.columns)\n",
    "print(not_common_columns)"
   ]
  },
  {
   "cell_type": "code",
   "execution_count": null,
   "metadata": {},
   "outputs": [],
   "source": [
    "not_common_columns1 = set(census2016.columns).symmetric_difference(census2021.columns)\n",
    "print(not_common_columns1)"
   ]
  }
 ],
 "metadata": {
  "kernelspec": {
   "display_name": "base",
   "language": "python",
   "name": "python3"
  },
  "language_info": {
   "codemirror_mode": {
    "name": "ipython",
    "version": 3
   },
   "file_extension": ".py",
   "mimetype": "text/x-python",
   "name": "python",
   "nbconvert_exporter": "python",
   "pygments_lexer": "ipython3",
   "version": "3.11.5"
  }
 },
 "nbformat": 4,
 "nbformat_minor": 2
}
