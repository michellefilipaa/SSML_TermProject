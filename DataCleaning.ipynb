{
 "cells": [
  {
   "cell_type": "code",
   "execution_count": 2,
   "metadata": {},
   "outputs": [],
   "source": [
    "import pandas as pd\n",
    "import numpy as np\n",
    "import re"
   ]
  },
  {
   "cell_type": "markdown",
   "metadata": {},
   "source": [
    "# "
   ]
  },
  {
   "cell_type": "code",
   "execution_count": 20,
   "metadata": {},
   "outputs": [
    {
     "data": {
      "text/html": [
       "<div>\n",
       "<style scoped>\n",
       "    .dataframe tbody tr th:only-of-type {\n",
       "        vertical-align: middle;\n",
       "    }\n",
       "\n",
       "    .dataframe tbody tr th {\n",
       "        vertical-align: top;\n",
       "    }\n",
       "\n",
       "    .dataframe thead th {\n",
       "        text-align: right;\n",
       "    }\n",
       "</style>\n",
       "<table border=\"1\" class=\"dataframe\">\n",
       "  <thead>\n",
       "    <tr style=\"text-align: right;\">\n",
       "      <th></th>\n",
       "      <th>X</th>\n",
       "      <th>Y</th>\n",
       "      <th>EVENT_UNIQUE_ID</th>\n",
       "      <th>REPORT_DATE</th>\n",
       "      <th>OCC_DATE</th>\n",
       "      <th>REPORT_YEAR</th>\n",
       "      <th>REPORT_MONTH</th>\n",
       "      <th>REPORT_DAY</th>\n",
       "      <th>REPORT_DOY</th>\n",
       "      <th>REPORT_DOW</th>\n",
       "      <th>...</th>\n",
       "      <th>UCR_CODE</th>\n",
       "      <th>UCR_EXT</th>\n",
       "      <th>OFFENCE</th>\n",
       "      <th>MCI_CATEGORY</th>\n",
       "      <th>HOOD_158</th>\n",
       "      <th>NEIGHBOURHOOD_158</th>\n",
       "      <th>HOOD_140</th>\n",
       "      <th>NEIGHBOURHOOD_140</th>\n",
       "      <th>LONG_WGS84</th>\n",
       "      <th>LAT_WGS84</th>\n",
       "    </tr>\n",
       "    <tr>\n",
       "      <th>OBJECTID</th>\n",
       "      <th></th>\n",
       "      <th></th>\n",
       "      <th></th>\n",
       "      <th></th>\n",
       "      <th></th>\n",
       "      <th></th>\n",
       "      <th></th>\n",
       "      <th></th>\n",
       "      <th></th>\n",
       "      <th></th>\n",
       "      <th></th>\n",
       "      <th></th>\n",
       "      <th></th>\n",
       "      <th></th>\n",
       "      <th></th>\n",
       "      <th></th>\n",
       "      <th></th>\n",
       "      <th></th>\n",
       "      <th></th>\n",
       "      <th></th>\n",
       "      <th></th>\n",
       "    </tr>\n",
       "  </thead>\n",
       "  <tbody>\n",
       "    <tr>\n",
       "      <th>1</th>\n",
       "      <td>-8.809036e+06</td>\n",
       "      <td>5.431523e+06</td>\n",
       "      <td>GO-20141260264</td>\n",
       "      <td>2014/01/01 05:00:00+00</td>\n",
       "      <td>2014/01/01 05:00:00+00</td>\n",
       "      <td>2014</td>\n",
       "      <td>January</td>\n",
       "      <td>1</td>\n",
       "      <td>1</td>\n",
       "      <td>Wednesday</td>\n",
       "      <td>...</td>\n",
       "      <td>1430</td>\n",
       "      <td>100</td>\n",
       "      <td>Assault</td>\n",
       "      <td>Assault</td>\n",
       "      <td>143</td>\n",
       "      <td>West Rouge</td>\n",
       "      <td>131</td>\n",
       "      <td>Rouge (131)</td>\n",
       "      <td>-79.132915</td>\n",
       "      <td>43.780413</td>\n",
       "    </tr>\n",
       "    <tr>\n",
       "      <th>2</th>\n",
       "      <td>-8.814320e+06</td>\n",
       "      <td>5.435514e+06</td>\n",
       "      <td>GO-20141260033</td>\n",
       "      <td>2014/01/01 05:00:00+00</td>\n",
       "      <td>2013/12/31 05:00:00+00</td>\n",
       "      <td>2014</td>\n",
       "      <td>January</td>\n",
       "      <td>1</td>\n",
       "      <td>1</td>\n",
       "      <td>Wednesday</td>\n",
       "      <td>...</td>\n",
       "      <td>1430</td>\n",
       "      <td>100</td>\n",
       "      <td>Assault</td>\n",
       "      <td>Assault</td>\n",
       "      <td>144</td>\n",
       "      <td>Morningside Heights</td>\n",
       "      <td>131</td>\n",
       "      <td>Rouge (131)</td>\n",
       "      <td>-79.180387</td>\n",
       "      <td>43.806289</td>\n",
       "    </tr>\n",
       "    <tr>\n",
       "      <th>3</th>\n",
       "      <td>-8.832825e+06</td>\n",
       "      <td>5.419631e+06</td>\n",
       "      <td>GO-20141259834</td>\n",
       "      <td>2014/01/01 05:00:00+00</td>\n",
       "      <td>2014/01/01 05:00:00+00</td>\n",
       "      <td>2014</td>\n",
       "      <td>January</td>\n",
       "      <td>1</td>\n",
       "      <td>1</td>\n",
       "      <td>Wednesday</td>\n",
       "      <td>...</td>\n",
       "      <td>1420</td>\n",
       "      <td>100</td>\n",
       "      <td>Assault With Weapon</td>\n",
       "      <td>Assault</td>\n",
       "      <td>55</td>\n",
       "      <td>Thorncliffe Park</td>\n",
       "      <td>55</td>\n",
       "      <td>Thorncliffe Park (55)</td>\n",
       "      <td>-79.346615</td>\n",
       "      <td>43.703234</td>\n",
       "    </tr>\n",
       "    <tr>\n",
       "      <th>4</th>\n",
       "      <td>-8.847292e+06</td>\n",
       "      <td>5.429042e+06</td>\n",
       "      <td>GO-20141264084</td>\n",
       "      <td>2014/01/01 05:00:00+00</td>\n",
       "      <td>2013/12/31 05:00:00+00</td>\n",
       "      <td>2014</td>\n",
       "      <td>January</td>\n",
       "      <td>1</td>\n",
       "      <td>1</td>\n",
       "      <td>Wednesday</td>\n",
       "      <td>...</td>\n",
       "      <td>1420</td>\n",
       "      <td>110</td>\n",
       "      <td>Assault Bodily Harm</td>\n",
       "      <td>Assault</td>\n",
       "      <td>27</td>\n",
       "      <td>York University Heights</td>\n",
       "      <td>27</td>\n",
       "      <td>York University Heights (27)</td>\n",
       "      <td>-79.476579</td>\n",
       "      <td>43.764317</td>\n",
       "    </tr>\n",
       "    <tr>\n",
       "      <th>5</th>\n",
       "      <td>6.327780e-09</td>\n",
       "      <td>5.664924e-09</td>\n",
       "      <td>GO-20141260577</td>\n",
       "      <td>2014/01/01 05:00:00+00</td>\n",
       "      <td>2014/01/01 05:00:00+00</td>\n",
       "      <td>2014</td>\n",
       "      <td>January</td>\n",
       "      <td>1</td>\n",
       "      <td>1</td>\n",
       "      <td>Wednesday</td>\n",
       "      <td>...</td>\n",
       "      <td>1610</td>\n",
       "      <td>180</td>\n",
       "      <td>Robbery - Swarming</td>\n",
       "      <td>Robbery</td>\n",
       "      <td>NSA</td>\n",
       "      <td>NSA</td>\n",
       "      <td>NSA</td>\n",
       "      <td>NSA</td>\n",
       "      <td>0.000000</td>\n",
       "      <td>0.000000</td>\n",
       "    </tr>\n",
       "  </tbody>\n",
       "</table>\n",
       "<p>5 rows × 30 columns</p>\n",
       "</div>"
      ],
      "text/plain": [
       "                     X             Y EVENT_UNIQUE_ID             REPORT_DATE  \\\n",
       "OBJECTID                                                                       \n",
       "1        -8.809036e+06  5.431523e+06  GO-20141260264  2014/01/01 05:00:00+00   \n",
       "2        -8.814320e+06  5.435514e+06  GO-20141260033  2014/01/01 05:00:00+00   \n",
       "3        -8.832825e+06  5.419631e+06  GO-20141259834  2014/01/01 05:00:00+00   \n",
       "4        -8.847292e+06  5.429042e+06  GO-20141264084  2014/01/01 05:00:00+00   \n",
       "5         6.327780e-09  5.664924e-09  GO-20141260577  2014/01/01 05:00:00+00   \n",
       "\n",
       "                        OCC_DATE  REPORT_YEAR REPORT_MONTH  REPORT_DAY  \\\n",
       "OBJECTID                                                                 \n",
       "1         2014/01/01 05:00:00+00         2014      January           1   \n",
       "2         2013/12/31 05:00:00+00         2014      January           1   \n",
       "3         2014/01/01 05:00:00+00         2014      January           1   \n",
       "4         2013/12/31 05:00:00+00         2014      January           1   \n",
       "5         2014/01/01 05:00:00+00         2014      January           1   \n",
       "\n",
       "          REPORT_DOY  REPORT_DOW  ...  UCR_CODE  UCR_EXT              OFFENCE  \\\n",
       "OBJECTID                          ...                                           \n",
       "1                  1  Wednesday   ...      1430      100              Assault   \n",
       "2                  1  Wednesday   ...      1430      100              Assault   \n",
       "3                  1  Wednesday   ...      1420      100  Assault With Weapon   \n",
       "4                  1  Wednesday   ...      1420      110  Assault Bodily Harm   \n",
       "5                  1  Wednesday   ...      1610      180   Robbery - Swarming   \n",
       "\n",
       "          MCI_CATEGORY  HOOD_158        NEIGHBOURHOOD_158  HOOD_140  \\\n",
       "OBJECTID                                                              \n",
       "1              Assault       143               West Rouge       131   \n",
       "2              Assault       144      Morningside Heights       131   \n",
       "3              Assault        55         Thorncliffe Park        55   \n",
       "4              Assault        27  York University Heights        27   \n",
       "5              Robbery       NSA                      NSA       NSA   \n",
       "\n",
       "                     NEIGHBOURHOOD_140 LONG_WGS84  LAT_WGS84  \n",
       "OBJECTID                                                      \n",
       "1                          Rouge (131) -79.132915  43.780413  \n",
       "2                          Rouge (131) -79.180387  43.806289  \n",
       "3                Thorncliffe Park (55) -79.346615  43.703234  \n",
       "4         York University Heights (27) -79.476579  43.764317  \n",
       "5                                  NSA   0.000000   0.000000  \n",
       "\n",
       "[5 rows x 30 columns]"
      ]
     },
     "execution_count": 20,
     "metadata": {},
     "output_type": "execute_result"
    }
   ],
   "source": [
    "crime = pd.read_csv('data/major_crime.csv', index_col='OBJECTID')\n",
    "crime.head()"
   ]
  },
  {
   "cell_type": "code",
   "execution_count": 21,
   "metadata": {},
   "outputs": [
    {
     "data": {
      "text/plain": [
       "Index(['X', 'Y', 'EVENT_UNIQUE_ID', 'REPORT_DATE', 'OCC_DATE', 'REPORT_YEAR',\n",
       "       'REPORT_MONTH', 'REPORT_DAY', 'REPORT_DOY', 'REPORT_DOW', 'REPORT_HOUR',\n",
       "       'OCC_YEAR', 'OCC_MONTH', 'OCC_DAY', 'OCC_DOY', 'OCC_DOW', 'OCC_HOUR',\n",
       "       'DIVISION', 'LOCATION_TYPE', 'PREMISES_TYPE', 'UCR_CODE', 'UCR_EXT',\n",
       "       'OFFENCE', 'MCI_CATEGORY', 'HOOD_158', 'NEIGHBOURHOOD_158', 'HOOD_140',\n",
       "       'NEIGHBOURHOOD_140', 'LONG_WGS84', 'LAT_WGS84'],\n",
       "      dtype='object')"
      ]
     },
     "execution_count": 21,
     "metadata": {},
     "output_type": "execute_result"
    }
   ],
   "source": [
    "crime.columns"
   ]
  },
  {
   "cell_type": "code",
   "execution_count": 22,
   "metadata": {},
   "outputs": [],
   "source": [
    "# The OFFENCE column has very specific descriptions of the crimes, we are only interested in the larger category\n",
    "# As for the report date columns, we are interested in when it happened - not when it was reported.\n",
    "crime.drop(columns=['REPORT_DATE', 'REPORT_YEAR', 'REPORT_MONTH', 'REPORT_DAY', 'REPORT_DOY', 'REPORT_DOW', 'REPORT_HOUR', 'OFFENCE', 'HOOD_158', 'HOOD_140'], inplace=True)"
   ]
  },
  {
   "cell_type": "code",
   "execution_count": 23,
   "metadata": {},
   "outputs": [
    {
     "data": {
      "text/html": [
       "<div>\n",
       "<style scoped>\n",
       "    .dataframe tbody tr th:only-of-type {\n",
       "        vertical-align: middle;\n",
       "    }\n",
       "\n",
       "    .dataframe tbody tr th {\n",
       "        vertical-align: top;\n",
       "    }\n",
       "\n",
       "    .dataframe thead th {\n",
       "        text-align: right;\n",
       "    }\n",
       "</style>\n",
       "<table border=\"1\" class=\"dataframe\">\n",
       "  <thead>\n",
       "    <tr style=\"text-align: right;\">\n",
       "      <th></th>\n",
       "      <th>past_neighbourhood_158</th>\n",
       "      <th>neighbourhood</th>\n",
       "    </tr>\n",
       "  </thead>\n",
       "  <tbody>\n",
       "    <tr>\n",
       "      <th>0</th>\n",
       "      <td>Agincourt North</td>\n",
       "      <td>Agincourt North (129)</td>\n",
       "    </tr>\n",
       "    <tr>\n",
       "      <th>1</th>\n",
       "      <td>Agincourt South-Malvern West</td>\n",
       "      <td>Agincourt South-Malvern West (128)</td>\n",
       "    </tr>\n",
       "    <tr>\n",
       "      <th>2</th>\n",
       "      <td>Alderwood</td>\n",
       "      <td>Alderwood (20)</td>\n",
       "    </tr>\n",
       "    <tr>\n",
       "      <th>3</th>\n",
       "      <td>Annex</td>\n",
       "      <td>Annex (95)</td>\n",
       "    </tr>\n",
       "    <tr>\n",
       "      <th>4</th>\n",
       "      <td>Avondale</td>\n",
       "      <td>Willowdale East (51)</td>\n",
       "    </tr>\n",
       "    <tr>\n",
       "      <th>...</th>\n",
       "      <td>...</td>\n",
       "      <td>...</td>\n",
       "    </tr>\n",
       "    <tr>\n",
       "      <th>154</th>\n",
       "      <td>Yonge-Doris</td>\n",
       "      <td>Willowdale East (51)</td>\n",
       "    </tr>\n",
       "    <tr>\n",
       "      <th>155</th>\n",
       "      <td>Yonge-Eglinton</td>\n",
       "      <td>Yonge-Eglinton (100)</td>\n",
       "    </tr>\n",
       "    <tr>\n",
       "      <th>156</th>\n",
       "      <td>Yonge-St.Clair</td>\n",
       "      <td>Yonge-St.Clair (97)</td>\n",
       "    </tr>\n",
       "    <tr>\n",
       "      <th>157</th>\n",
       "      <td>York University Heights</td>\n",
       "      <td>York University Heights (27)</td>\n",
       "    </tr>\n",
       "    <tr>\n",
       "      <th>158</th>\n",
       "      <td>Yorkdale-Glen Park</td>\n",
       "      <td>Yorkdale-Glen Park (31)</td>\n",
       "    </tr>\n",
       "  </tbody>\n",
       "</table>\n",
       "<p>159 rows × 2 columns</p>\n",
       "</div>"
      ],
      "text/plain": [
       "           past_neighbourhood_158                       neighbourhood\n",
       "0                 Agincourt North               Agincourt North (129)\n",
       "1    Agincourt South-Malvern West  Agincourt South-Malvern West (128)\n",
       "2                       Alderwood                      Alderwood (20)\n",
       "3                           Annex                          Annex (95)\n",
       "4                        Avondale                Willowdale East (51)\n",
       "..                            ...                                 ...\n",
       "154                   Yonge-Doris                Willowdale East (51)\n",
       "155                Yonge-Eglinton                Yonge-Eglinton (100)\n",
       "156                Yonge-St.Clair                 Yonge-St.Clair (97)\n",
       "157       York University Heights        York University Heights (27)\n",
       "158            Yorkdale-Glen Park             Yorkdale-Glen Park (31)\n",
       "\n",
       "[159 rows x 2 columns]"
      ]
     },
     "execution_count": 23,
     "metadata": {},
     "output_type": "execute_result"
    }
   ],
   "source": [
    "# Create a new DataFrame with the unique neighbourhood158 values and their corresponding updated names\n",
    "neighbourhood_mapping = crime.groupby('NEIGHBOURHOOD_158')['NEIGHBOURHOOD_140'].unique().reset_index()\n",
    "\n",
    "new_neighbourhood_df = pd.DataFrame({\n",
    "    'past_neighbourhood_158': neighbourhood_mapping['NEIGHBOURHOOD_158'],\n",
    "    'neighbourhood': neighbourhood_mapping['NEIGHBOURHOOD_140'].apply(lambda x: x[0]) # assuming there's only one updated name\n",
    "})\n",
    "\n",
    "new_neighbourhood_df"
   ]
  },
  {
   "cell_type": "code",
   "execution_count": 24,
   "metadata": {},
   "outputs": [],
   "source": [
    "# Remove the number and brackets at the end of the neighbourhood name\n",
    "def clean_string(text):\n",
    "    pattern = r'\\s*\\(\\d+\\)$'\n",
    "    cleaned = re.sub(pattern, '', text)\n",
    "\n",
    "    return cleaned"
   ]
  },
  {
   "cell_type": "code",
   "execution_count": 25,
   "metadata": {},
   "outputs": [],
   "source": [
    "new_neighbourhood_df['neighbourhood'] = new_neighbourhood_df['neighbourhood'].apply(clean_string)"
   ]
  },
  {
   "cell_type": "code",
   "execution_count": 26,
   "metadata": {},
   "outputs": [],
   "source": [
    "crime['NEIGHBOURHOOD_140'] = crime['NEIGHBOURHOOD_140'].apply(clean_string)"
   ]
  },
  {
   "cell_type": "code",
   "execution_count": 27,
   "metadata": {},
   "outputs": [],
   "source": [
    "# Now we can drop the old neighbourhood_158 column\n",
    "crime.drop(columns=['NEIGHBOURHOOD_158'], inplace=True)"
   ]
  },
  {
   "cell_type": "code",
   "execution_count": 28,
   "metadata": {},
   "outputs": [
    {
     "data": {
      "text/plain": [
       "Index(['X', 'Y', 'EVENT_UNIQUE_ID', 'OCC_DATE', 'OCC_YEAR', 'OCC_MONTH',\n",
       "       'OCC_DAY', 'OCC_DOY', 'OCC_DOW', 'OCC_HOUR', 'DIVISION',\n",
       "       'LOCATION_TYPE', 'PREMISES_TYPE', 'UCR_CODE', 'UCR_EXT', 'MCI_CATEGORY',\n",
       "       'NEIGHBOURHOOD_140', 'LONG_WGS84', 'LAT_WGS84'],\n",
       "      dtype='object')"
      ]
     },
     "execution_count": 28,
     "metadata": {},
     "output_type": "execute_result"
    }
   ],
   "source": [
    "crime.columns"
   ]
  },
  {
   "cell_type": "code",
   "execution_count": 29,
   "metadata": {},
   "outputs": [],
   "source": [
    "# Converting the occurence data to a datetime variable for easy filtering\n",
    "crime['OCC_DATE'] = pd.to_datetime(crime['OCC_DATE'], format='%Y/%m/%d %H:%M:%S+00')"
   ]
  },
  {
   "cell_type": "code",
   "execution_count": 30,
   "metadata": {},
   "outputs": [],
   "source": [
    "# Filtering out crimes that happened before 01/01/2013 and after 31/12/2023\n",
    "start_date = pd.to_datetime('2013-01-01')\n",
    "end_date = pd.to_datetime('2023-12-31')\n",
    "\n",
    "crime = crime[(crime['OCC_DATE'] >= start_date) & (crime['OCC_DATE'] <= end_date)]"
   ]
  },
  {
   "cell_type": "code",
   "execution_count": 31,
   "metadata": {},
   "outputs": [],
   "source": [
    "crime = crime.sort_values(by='OCC_DATE')"
   ]
  },
  {
   "cell_type": "code",
   "execution_count": 33,
   "metadata": {},
   "outputs": [],
   "source": [
    "# Create separate data frames for each year\n",
    "crime_by_date = crime.groupby(crime['OCC_DATE'].dt.year)\n",
    "yearly_crime_dfs = {year: group for year, group in crime_by_date}\n",
    "# access each year by -> yearly_crime_dfs[x] where x is 2013, 2014, ..., 2023"
   ]
  },
  {
   "cell_type": "code",
   "execution_count": 34,
   "metadata": {},
   "outputs": [],
   "source": [
    "years = [2013, 2014, 2015, 2016, 2017, 2018, 2019, 2020, 2021, 2022, 2023]"
   ]
  },
  {
   "cell_type": "code",
   "execution_count": 18,
   "metadata": {},
   "outputs": [],
   "source": [
    "monthly_summaries = {}\n",
    "crime_types = ['Assault', 'Break and Enter', 'Theft Over', 'Robbery', 'Auto Theft']\n",
    "\n",
    "# Iterate through each yearly DataFrame\n",
    "for year, df_yearly in yearly_crime_dfs.items():\n",
    "    df_yearly['MONTH'] = df_yearly['OCC_DATE'].dt.month\n",
    "    \n",
    "    # Group the yearly DataFrame by month and by crime category, then count the number of crimes\n",
    "    monthly_summary_yearly = df_yearly.groupby(['MONTH', 'MCI_CATEGORY']).size().unstack(fill_value=0).reset_index()\n",
    "    \n",
    "    # Add a 'YEAR' column to the monthly summary DataFrame\n",
    "    monthly_summary_yearly['YEAR'] = year\n",
    "    monthly_summary_yearly = monthly_summary_yearly[['YEAR', 'MONTH'] + crime_types]\n",
    "    \n",
    "    monthly_summaries[year] = monthly_summary_yearly.to_dict(orient='records')"
   ]
  },
  {
   "cell_type": "code",
   "execution_count": 106,
   "metadata": {},
   "outputs": [],
   "source": [
    "# crimes by neighbourhood\n",
    "yearly_neighborhood_summaries = {}\n",
    "\n",
    "for year, df_yearly in yearly_crime_dfs.items():\n",
    "    neighborhood_summary = df_yearly['NEIGHBOURHOOD_140'].value_counts().reset_index()\n",
    "    neighborhood_summary.columns = ['NEIGHBOURHOOD_140', 'num_crimes']\n",
    "    \n",
    "    yearly_neighborhood_summaries[year] = neighborhood_summary"
   ]
  },
  {
   "cell_type": "code",
   "execution_count": 108,
   "metadata": {},
   "outputs": [],
   "source": [
    "# save as .csv\n",
    "for year in years:\n",
    "    yearly_crime_dfs[year].to_csv('data/crime/by_year/all_crimes' + str(year) + '.csv')\n",
    "    pd.DataFrame(monthly_summaries[year]).to_csv('data/crime/by_year_month/crime_summary' + str(year) + '.csv')\n",
    "    yearly_neighborhood_summaries[year].to_csv('data/crime/by_neighbourhood/' + str(year) + 'crimes_per_neighbourhood.csv')"
   ]
  },
  {
   "cell_type": "code",
   "execution_count": 35,
   "metadata": {},
   "outputs": [],
   "source": [
    "crime.to_csv('data/crime/major_crimes.csv')\n",
    "new_neighbourhood_df.to_csv('data/neighbourhoods.csv')"
   ]
  }
 ],
 "metadata": {
  "kernelspec": {
   "display_name": "base",
   "language": "python",
   "name": "python3"
  },
  "language_info": {
   "codemirror_mode": {
    "name": "ipython",
    "version": 3
   },
   "file_extension": ".py",
   "mimetype": "text/x-python",
   "name": "python",
   "nbconvert_exporter": "python",
   "pygments_lexer": "ipython3",
   "version": "3.11.5"
  }
 },
 "nbformat": 4,
 "nbformat_minor": 2
}
